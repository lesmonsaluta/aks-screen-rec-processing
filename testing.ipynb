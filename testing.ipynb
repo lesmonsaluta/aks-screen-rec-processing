{
 "cells": [
  {
   "cell_type": "code",
   "execution_count": 1,
   "metadata": {},
   "outputs": [],
   "source": [
    "import cv2"
   ]
  },
  {
   "cell_type": "code",
   "execution_count": null,
   "metadata": {},
   "outputs": [],
   "source": [
    "# Open the video file\n",
    "cap = cv2.VideoCapture('video.mp4')\n",
    "\n",
    "# Define the pixel location to track\n",
    "x = 100\n",
    "y = 100\n",
    "\n",
    "# Define the color threshold to track (in BGR format)\n",
    "color_threshold = (0, 0, 255)\n",
    "\n",
    "# Loop through each frame of the video\n",
    "while cap.isOpened():\n",
    "    ret, frame = cap.read()\n",
    "    if ret:\n",
    "        # Extract the pixel value at the desired location\n",
    "        pixel_value = frame[y,x]\n",
    "        # Check if the pixel value exceeds the color threshold\n",
    "        if tuple(pixel_value) == color_threshold:\n",
    "            # Print the timestamp of the current frame\n",
    "            print(cap.get(cv2.CAP_PROP_POS_MSEC))\n",
    "    else:\n",
    "        break\n",
    "\n",
    "# Release the video file\n",
    "cap.release()\n"
   ]
  }
 ],
 "metadata": {
  "kernelspec": {
   "display_name": "Python 3",
   "language": "python",
   "name": "python3"
  },
  "language_info": {
   "codemirror_mode": {
    "name": "ipython",
    "version": 3
   },
   "file_extension": ".py",
   "mimetype": "text/x-python",
   "name": "python",
   "nbconvert_exporter": "python",
   "pygments_lexer": "ipython3",
   "version": "3.9.7"
  },
  "orig_nbformat": 4
 },
 "nbformat": 4,
 "nbformat_minor": 2
}
